{
 "cells": [
  {
   "cell_type": "markdown",
   "metadata": {},
   "source": [
    "# Week 03. Naive Bayes Classfier\n",
    "\n",
    "과제는 총 5개의 cell을 채워주셔야합니다\n",
    "\n",
    "1~4 문제는 영상과 실습자료에 나와있는 것들을 적절히 응용하시면 됩니다\n",
    "\n",
    "마지막 5번의 경우 본인의 생각을 마크다운으로 작성하는 부분입니다\n",
    "\n",
    "주석의 경우 이미지, 테이블 등의 표현이 어려운 관계로 받지 않겠습니다"
   ]
  },
  {
   "cell_type": "markdown",
   "metadata": {},
   "source": [
    "### 실습 00. Load dataset"
   ]
  },
  {
   "cell_type": "markdown",
   "metadata": {},
   "source": [
    "과제를 수행하기 위해 과제파일과 함께 breast data, target을 다운받아 불러옵니다\n",
    "\n",
    "불러온 dataset은 Wisconsin에서 수집된 breast cancer dataset입니다\n",
    "\n",
    "target이 0인 경우 negative이고, 1인경우 positive를 의미합니다\n",
    "\n",
    "해당 데이터셋은 machine learning dataset repository중 하나인 UCI repository에 등록되어있습니다\n",
    "\n",
    "Raw dataset을 가공하여 csv로 저장하였기 때문에 pandas로 불러올 수 있습니다"
   ]
  },
  {
   "cell_type": "code",
   "execution_count": 1,
   "metadata": {},
   "outputs": [],
   "source": [
    "import pandas as pd\n",
    "import os "
   ]
  },
  {
   "cell_type": "code",
   "execution_count": 2,
   "metadata": {},
   "outputs": [],
   "source": [
    "data=pd.read_csv('C:/Users/KCH/Desktop/2020년도 2학기/기계학습/실습/3주차/dataset/breast-data.csv')\n",
    "target=pd.read_csv('C:/Users/KCH/Desktop/2020년도 2학기/기계학습/실습/3주차/dataset/breast-target.csv')"
   ]
  },
  {
   "cell_type": "markdown",
   "metadata": {},
   "source": [
    "### 실습 01. Pandas & numpy 사용하기"
   ]
  },
  {
   "cell_type": "markdown",
   "metadata": {},
   "source": [
    "데이터들을 불러오고 형태를 확인해주세요\n",
    "\n",
    "DataFrame.shape으로 확인할 수 있습니다\n",
    "\n",
    "이후, 변수의 갯수와 변수 별 평균, 표준편차를 출력해주세요\n",
    "\n",
    "출력 양식은 자유롭게 작성하시되, 반드시 위의 요구사항을 만족하여야합니다"
   ]
  },
  {
   "cell_type": "code",
   "execution_count": 3,
   "metadata": {},
   "outputs": [
    {
     "name": "stdout",
     "output_type": "stream",
     "text": [
      "1. 데이터의 형태  : [data]의 형태 : (683, 9) , [target]의 형태 :  (683, 1) \n",
      "\n",
      "\n",
      "2. 변수의 개수    : [data]의 변수 개수 : 9 , [target]의 변수 개수 : 1 \n",
      "\n",
      "\n",
      "3. 변수별 평균    : \n",
      "\n",
      "- [data]의 변수별 평균 : [4.44216691 3.15080527 3.21522694 2.83016105 3.23426061 3.54465593\n",
      " 3.44509517 2.86969253 1.60322108] \n",
      "\n",
      "- [target]의 변수별 평균 :  0.34992679355783307 \n",
      "\n",
      "\n",
      "4. 변수별 표준편차: \n",
      "\n",
      "- [data]의 변수별 표준편차 : [2.82076132 3.06514486 2.98858082 2.86456219 2.22308546 3.64385716\n",
      " 2.44969657 3.05266641 1.73267415] \n",
      "\n",
      "- [target]의 변수별 표준편차 :  0.4772961116651491 \n",
      "\n"
     ]
    }
   ],
   "source": [
    "import numpy as np\n",
    "\n",
    "print('1. 데이터의 형태  : [data]의 형태 :', data.shape, ', [target]의 형태 : ', target.shape, '\\n\\n')\n",
    "print('2. 변수의 개수    : [data]의 변수 개수 :', len(data.columns), ', [target]의 변수 개수 :', len(target.columns), '\\n\\n')\n",
    "print('3. 변수별 평균    : \\n\\n- [data]의 변수별 평균 :', np.array(data.mean(axis=0)), '\\n\\n- [target]의 변수별 평균 : ', *target.mean(axis=0), '\\n\\n')\n",
    "print('4. 변수별 표준편차: \\n\\n- [data]의 변수별 표준편차 :', np.array(data.std(axis=0)), '\\n\\n- [target]의 변수별 표준편차 : ', *target.std(axis=0), '\\n')"
   ]
  },
  {
   "cell_type": "markdown",
   "metadata": {},
   "source": [
    "### 실습 02. Gaussian Naive Bayes Classifier"
   ]
  },
  {
   "cell_type": "markdown",
   "metadata": {},
   "source": [
    "Scikit-learn package의 classifier를 불러오겠습니다"
   ]
  },
  {
   "cell_type": "code",
   "execution_count": 4,
   "metadata": {},
   "outputs": [],
   "source": [
    "from sklearn.naive_bayes import GaussianNB"
   ]
  },
  {
   "cell_type": "markdown",
   "metadata": {},
   "source": [
    "불러온 class를 적절한 오브젝트에 저장하고, breast data의 prior를 계산하여 입력해주세요\n",
    "\n",
    "그리고 학습된 모델의 정확도를 출력해주세요"
   ]
  },
  {
   "cell_type": "code",
   "execution_count": 5,
   "metadata": {},
   "outputs": [
    {
     "name": "stdout",
     "output_type": "stream",
     "text": [
      "1. target의 class 종류   :  0 1 \n",
      "\n",
      "\n",
      "2. target의 class 별 개수:  444 239 \n",
      "\n",
      "\n",
      "3. prior                 :  0.6500732064421669 0.34992679355783307 \n",
      "\n",
      "\n",
      "4. 학습된 모델의 정확도  :  96.33967789165446\n"
     ]
    },
    {
     "name": "stderr",
     "output_type": "stream",
     "text": [
      "C:\\ProgramData\\Anaconda3\\lib\\site-packages\\sklearn\\utils\\validation.py:724: DataConversionWarning: A column-vector y was passed when a 1d array was expected. Please change the shape of y to (n_samples, ), for example using ravel().\n",
      "  y = column_or_1d(y, warn=True)\n"
     ]
    }
   ],
   "source": [
    "print('1. target의 class 종류   : ', *target.iloc[:,0].unique() , '\\n\\n')\n",
    "print('2. target의 class 별 개수: ', *target.iloc[:,0].value_counts(),'\\n\\n') \n",
    "\n",
    "\n",
    "All_prior=target.iloc[:,0].value_counts()[0] + target.iloc[:,0].value_counts()[1]\n",
    "prior_0 = target.iloc[:,0].value_counts()[0]/All_prior\n",
    "prior_1 = target.iloc[:,0].value_counts()[1]/All_prior\n",
    "print('3. prior                 : ', prior_0, prior_1,'\\n\\n') \n",
    "\n",
    "\n",
    "model=GaussianNB(priors=[prior_0, prior_1])\n",
    "model.fit(data, target)\n",
    "\n",
    "\n",
    "print('4. 학습된 모델의 정확도  : ', (model.predict(data).reshape(683,1)==target.values).mean()*100) "
   ]
  },
  {
   "cell_type": "markdown",
   "metadata": {},
   "source": [
    "### 실습 03. Prior 조절 및 결과 비교하기"
   ]
  },
  {
   "cell_type": "markdown",
   "metadata": {},
   "source": [
    "실습 2에서 확인한 것과 같이 breast cancer dataset의 prior 비율은 1:1이 아닙니다\n",
    "\n",
    "prior를 1:1로 조절한 후 조절하기 전과 비교해주세요\n",
    "\n"
   ]
  },
  {
   "cell_type": "code",
   "execution_count": 7,
   "metadata": {},
   "outputs": [
    {
     "name": "stdout",
     "output_type": "stream",
     "text": [
      "1. 실습2에서의 정확도            : 96.34%\n",
      "   실습2에서 1이라고 예측한 횟수 : 254\n",
      "\n",
      "\n",
      "2. prior를 1:1로 조절한 후의 정확도            : 96.34%\n",
      "   prior를 1:1로 조절한 후 1이라고 예측한 횟수 : 254\n",
      "\n"
     ]
    },
    {
     "name": "stderr",
     "output_type": "stream",
     "text": [
      "C:\\ProgramData\\Anaconda3\\lib\\site-packages\\sklearn\\utils\\validation.py:724: DataConversionWarning: A column-vector y was passed when a 1d array was expected. Please change the shape of y to (n_samples, ), for example using ravel().\n",
      "  y = column_or_1d(y, warn=True)\n"
     ]
    }
   ],
   "source": [
    "equal_model=GaussianNB(priors=[0.5, 0.5])\n",
    "equal_model.fit(data, target)\n",
    "\n",
    "print(f'1. 실습2에서의 정확도            : {(model.predict(data).reshape(683,1)==target.values).mean()*100:.4}%')\n",
    "print(f'   실습2에서 1이라고 예측한 횟수 : {(model.predict(data)).sum()}\\n\\n')\n",
    "print(f'2. prior를 1:1로 조절한 후의 정확도            : {(equal_model.predict(data).reshape(683,1)==target.values).mean()*100:.4}%')\n",
    "print(f'   prior를 1:1로 조절한 후 1이라고 예측한 횟수 : {(equal_model.predict(data)).sum()}\\n')"
   ]
  },
  {
   "cell_type": "markdown",
   "metadata": {},
   "source": [
    "위과 같이 prior에 따라 결과를 얻게된 이유를 **마크다운**으로 아래 서술해주세요\n",
    "\n",
    "본인의 생각을 자유롭게 작성해주시면 됩니다\n",
    "\n",
    "아래쪽에 cell을 추가하는 방법은 이 cell의 왼쪽 여백을 클릭하여 파란색 테두리로 강조되는 것을 확인한 후, \n",
    "\n",
    "b키를 누르면 아래쪽에 cell이 생성됩니다\n",
    "\n",
    "아래쪽 cell의 왼쪽 여백을 클릭하여 파란색 테두리 상태일 때 m키를 누르면 markdown으로 작성할 수 있습니다"
   ]
  },
  {
   "cell_type": "markdown",
   "metadata": {},
   "source": [
    "### < 위와 같은 결과를 얻게된 이유 > - 201601990 김충환\n",
    " \n",
    " \n",
    "이번 주 과제는 prior를 설정해준 경우와 설정해주지 않은 경우에 따라 얻게된 결과에 대한 이유를 작성하는 것입니다.\n",
    "\n",
    "prior를 다르게 했지만, 학습시킨 두 모델의 정확도를 측정한 결과 같게 나왔습니다.\n",
    "\n",
    "Gaussian Naive Bayes Classifier에서는 데이터가 주어졌을 때 posterior가 가장 큰 클래스로 분류됩니다.\n",
    "\n",
    "posterior = likelihood * prior 입니다. \n",
    "\n",
    "결과를 바탕으로 생각해보면 위 식에서 prior를 바꿔도 이번 실습 데이터에서 클래스별 posterior의 대소 관계에 거의 영향을 주지 않습니다.\n",
    "\n",
    "따라서 이러한 결과가 나온 이유는 Likelihood에 있다고 생각했습니다. \n",
    "\n",
    "(※ prior가 바뀐다고 해서 likelihood에 영향을 주지 않습니다 -> likelihood는 observed data에 의해 결정되기 때문입니다.)\n",
    "\n",
    "분류는 데이터를 받았을 때 그 데이터에 대한 각 클래스별 posterior의 대소관계를 비교하는 것인데, \n",
    "\n",
    "이번 실습 데이터에서는 각 클래스 간 likelihood(observed data)의 차이가 이미 극명해서 \n",
    "\n",
    "prior가 바뀌어도 기존 결과에 영향을 거의 주지 않는다고 생각합니다. \n",
    "\n",
    "이론 수업에서 교수님께서 \n",
    "\n",
    "    \"진짜 데이터가 너무나 확실한 경우는 그냥 그대로 가고, 둘 다 애매한 경우에 prior를 사용해서 비교한다.\"\n",
    "\n",
    "라고 예시를 들어주셨습니다. 아마 이와 같은 상황을 두고 쉽게 이해시켜주기 위해 든 예시라고 생각합니다.\n",
    "\n",
    "교수님의 예시는 이번 실습데이터와 같이 데이터가 극명하게 차이가 나는 경우는 \n",
    "\n",
    "observed data에 의해 결정되는 클래스별 likelihood의 차이가 이미 심해서 \n",
    "\n",
    "prior가 바뀌어도 클래스별 posterior의 대소관계에 거의 영향을 주지 않는 경우를 나타내는 듯합니다.\n",
    "\n",
    "(※ 또한, 저의 생각이 맞는지를 확인해보기 위해 data와 target을 살펴봤는데 \n",
    "\n",
    "   확실히 class 1로 분류된 데이터들과 class 0으로 분류된 데이터들이 크게 차이 났습니다.)"
   ]
  },
  {
   "cell_type": "markdown",
   "metadata": {},
   "source": []
  }
 ],
 "metadata": {
  "kernelspec": {
   "display_name": "Python 3",
   "language": "python",
   "name": "python3"
  },
  "language_info": {
   "codemirror_mode": {
    "name": "ipython",
    "version": 3
   },
   "file_extension": ".py",
   "mimetype": "text/x-python",
   "name": "python",
   "nbconvert_exporter": "python",
   "pygments_lexer": "ipython3",
   "version": "3.7.3"
  }
 },
 "nbformat": 4,
 "nbformat_minor": 4
}
