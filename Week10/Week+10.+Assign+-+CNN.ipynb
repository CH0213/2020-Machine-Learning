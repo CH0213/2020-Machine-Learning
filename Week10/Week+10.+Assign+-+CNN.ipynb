{
 "cells": [
  {
   "cell_type": "markdown",
   "metadata": {},
   "source": [
    "# Week 10. Convolutional Neural Networks\n",
    "\n",
    "과제는 총 2개의 cell을 작성하도록 구성되어있습니다\n",
    "\n",
    "1~2 문제는 영상과 실습자료에 나와있는 것들을 적절히 응용하시면 됩니다\n",
    "\n",
    "주석의 경우 이미지, 테이블 등의 표현이 어려운 관계로 받지 않겠습니다"
   ]
  },
  {
   "cell_type": "markdown",
   "metadata": {},
   "source": [
    "### 실습 01. Cifar 100 for Coarse labels"
   ]
  },
  {
   "cell_type": "markdown",
   "metadata": {},
   "source": [
    "Dataset cifar 100을 dataset으로 사용하여 과제를 진행합니다\n",
    "\n",
    "Train set으로 학습하면서 validation으로 test를 사용해주세요\n",
    "\n",
    "Monitoring 용도로만 사용하며 학습에는 개입하지않습니다\n",
    "\n",
    "모델은 convolution layer를 사용하여 자유롭게 생성하시면 됩니다\n",
    "\n",
    "그리고 convolution layer의 일부분이 저장가능하도록 만들어주세요\n",
    "\n",
    "실습 02에서 fine labels로 transfer learning을 시도해보겠습니다\n",
    "\n",
    "생성한 모델로 coarse labels를 학습하고 성능과 loss가 학습하는 동안 어떻게 변했는지 시각화해주세요"
   ]
  },
  {
   "cell_type": "code",
   "execution_count": 1,
   "metadata": {},
   "outputs": [],
   "source": [
    "import pandas as pds\n",
    "import numpy as np\n",
    "import os\n",
    "\n",
    "from plotly.subplots import make_subplots\n",
    "from plotly import graph_objs as go\n",
    "import plotly.express as px\n",
    "from plotly.offline import iplot,plot\n",
    "\n",
    "import tensorflow as tf\n"
   ]
  },
  {
   "cell_type": "markdown",
   "metadata": {},
   "source": [
    "### 실습 02. Cifar 100 for fine labels applied transfer learning"
   ]
  },
  {
   "cell_type": "markdown",
   "metadata": {},
   "source": [
    "Coarse labels로 학습된 모델을 저장한 뒤 transfer learning으로 fine label을 학습시켜보세요\n",
    "\n",
    "그리고 test set에 대해 loss와 성능이 어떻게 변하는지 시각화해주세요"
   ]
  },
  {
   "cell_type": "code",
   "execution_count": null,
   "metadata": {},
   "outputs": [],
   "source": []
  }
 ],
 "metadata": {
  "kernelspec": {
   "display_name": "Python 3",
   "language": "python",
   "name": "python3"
  },
  "language_info": {
   "codemirror_mode": {
    "name": "ipython",
    "version": 3
   },
   "file_extension": ".py",
   "mimetype": "text/x-python",
   "name": "python",
   "nbconvert_exporter": "python",
   "pygments_lexer": "ipython3",
   "version": "3.6.9"
  }
 },
 "nbformat": 4,
 "nbformat_minor": 4
}
