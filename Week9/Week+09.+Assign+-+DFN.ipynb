{
 "cells": [
  {
   "cell_type": "markdown",
   "metadata": {},
   "source": [
    "# **이번 실습의 결과들은 서로 다른 변수에 저장해두셔야 결과를 정리하는데 큰 도움이 됩니다**"
   ]
  },
  {
   "cell_type": "markdown",
   "metadata": {},
   "source": [
    "# Week 09. Deep Feed-foward Network\n",
    "\n",
    "과제는 총 3개의 cell을 작성하도록 구성되어있습니다\n",
    "\n",
    "1~3 문제는 영상과 실습자료에 나와있는 것들을 적절히 응용하시면 됩니다\n",
    "\n",
    "주석의 경우 이미지, 테이블 등의 표현이 어려운 관계로 받지 않겠습니다"
   ]
  },
  {
   "cell_type": "markdown",
   "metadata": {},
   "source": [
    "### 실습 00. Load dataset"
   ]
  },
  {
   "cell_type": "markdown",
   "metadata": {},
   "source": [
    "Dataset covertype이며, 인공위성이 찍은 사진을 전처리하여 table data로 작성한 dataset입니다\n",
    "\n",
    "train set으로 다양한 방법들을 교차검증하고, test set에서도 좋은 성능을 보이는지 확인해보겠습니다\n",
    "\n",
    "train set과 test set을 불러와주세요"
   ]
  },
  {
   "cell_type": "code",
   "execution_count": 1,
   "metadata": {},
   "outputs": [],
   "source": [
    "import pandas as pds\n",
    "import numpy as np\n",
    "import os\n",
    "\n",
    "from plotly.subplots import make_subplots\n",
    "from plotly import graph_objs as go\n",
    "import plotly.express as px\n",
    "from plotly.offline import iplot,plot\n",
    "\n",
    "import tensorflow as tf\n",
    "\n",
    "x_train=pds.read_csv('09 DFN x_train.csv')\n",
    "x_test=pds.read_csv('09 DFN x_test.csv')\n",
    "\n",
    "y_train=pds.read_csv('09 DFN y_train.csv')\n",
    "y_test=pds.read_csv('09 DFN y_test.csv')"
   ]
  },
  {
   "cell_type": "markdown",
   "metadata": {},
   "source": [
    "### 실습 01. Use various layers"
   ]
  },
  {
   "cell_type": "markdown",
   "metadata": {},
   "source": [
    "먼저 다양한 layer들의 조합을 실험해보겠습니다\n",
    "\n",
    "Dense layer를 통과한 값들이 다음 dense layer를 통과하기 전에 통과할 layer들을 다양하게 조합해보려합니다\n",
    "\n",
    "build_model함수에 5가지 argument를 조합하여 다양한 모델들이 생성되도록 작성해주세요\n",
    "\n",
    "첫번째 parameter는 hidden layer의 갯수입니다\n",
    "\n",
    "두번째 parameter는 hidden layer 별 unit의 갯수입니다\n",
    "\n",
    "세번째와 네번째 parameter는 activation, objective function이며, string으로 받은 function을 사용해주세요\n",
    "\n",
    "다섯번째 parameter는 batchnormalization입니다. True인 경우 batchnormalization을 사용하고, False라면 제외해주세요. 기본값은 False입니다\n",
    "\n",
    "마지막 paramter는 dropout입니다. 아무것도 채워지지 않은 경우 dropout을 비활성화하고, 1보다 작은 수치가 입력되면 dropout을 해당 수치로 적용해주세요\n",
    "\n",
    "반환시킬 모델은 compile하지 말아주세요"
   ]
  },
  {
   "cell_type": "code",
   "execution_count": 2,
   "metadata": {},
   "outputs": [],
   "source": [
    "\n",
    "def build_model(n_layer,n_units,activation,obj_fn,batch_norm=False,drop_rate=False):\n",
    "\n",
    "    \n",
    "    \n",
    "    return model"
   ]
  },
  {
   "cell_type": "code",
   "execution_count": null,
   "metadata": {},
   "outputs": [],
   "source": []
  },
  {
   "cell_type": "markdown",
   "metadata": {},
   "source": [
    "함수를 적절히 생성하셨다면 아래의 cell을 실행했을때 같은 결과를 얻으실 수 있습니다"
   ]
  },
  {
   "cell_type": "code",
   "execution_count": null,
   "metadata": {},
   "outputs": [],
   "source": [
    "model=build_model(3,30,'tanh','softmax',True,0.3)\n",
    "\n",
    "model.summary()"
   ]
  },
  {
   "cell_type": "markdown",
   "metadata": {},
   "source": [
    "이하 위 코드의 실행결과를 캡쳐한 그림입니다\n",
    "\n",
    "<img src = \"https://i.imgur.com/Oh6hyt2.png\" style = \"width:500px\">"
   ]
  },
  {
   "cell_type": "markdown",
   "metadata": {},
   "source": [
    "이제 다양한 조건에서 학습을 시도해보겠습니다 \n",
    "\n",
    "각 모델은 layer는 10개, unit은 100개로 구성되며 500 batch size를 사용하여 50 epoch동안 학습시키려합니다\n",
    "\n",
    "아래 조건에 따라 activation, batch normalization, drop out을 적절히 바꿔가며 실습해보세요\n",
    "\n",
    "각 모델은 validation 없이 1회씩만 실험해보겠습니다\n",
    "\n",
    "기본 값이 존재하는 argument들은 다른 언급이 없다면 기본값을 사용해주시면 됩니다\n",
    "\n"
   ]
  },
  {
   "cell_type": "markdown",
   "metadata": {},
   "source": [
    "#### 실습 1.01 activations\n",
    "\n",
    "Activation function Linear, sigmoid, tanh, relu를 실습해보겠습니다\n",
    "\n",
    "4개의 서로 다른 모델을 softmax와 categorical cross entropy, SGD로 학습시켜 보고 loss와 정확도가 어떻게 변해가는지 plot해주세요\n",
    "\n",
    "만약 Nan이 발생했다면 어떤 activation이 loss function으로 Nan이 계산되었고, 왜 Nan이 나왔는지 의견을 적어주세요"
   ]
  },
  {
   "cell_type": "code",
   "execution_count": null,
   "metadata": {
    "scrolled": true
   },
   "outputs": [],
   "source": []
  },
  {
   "cell_type": "markdown",
   "metadata": {},
   "source": [
    "#### 실습 1.02 Batch normalization\n",
    "\n",
    "위의 activation 조건을 유지하면서 batch normalization을 사용해보겠습니다\n",
    "\n",
    "4개의 서로 다른 모델을 softmax와 categorical cross entropy, SGD로 학습시켜 보고 loss와 정확도가 어떻게 변해가는지 plot해주세요\n",
    "\n",
    "만약 Nan이 발생했다면 어떤 activation이 loss function으로 Nan이 계산되었고, 왜 Nan이 나왔는지 의견을 적어주세요\n",
    "\n",
    "그리고 Nan이 발생하던 activation function들이 Nan이 발생하지 않게되었다면 왜 그런지 의견을 작성해주세요"
   ]
  },
  {
   "cell_type": "code",
   "execution_count": null,
   "metadata": {
    "scrolled": true
   },
   "outputs": [],
   "source": []
  },
  {
   "cell_type": "markdown",
   "metadata": {},
   "source": [
    "#### 실습 1.03 Dropout & optimizer\n",
    "\n",
    "선행조건을 유지한채 Dropout을 사용해보겠습니다\n",
    "\n",
    "Drop out 비율을 0.5정도 사용해주시고, optimizer는 Adam으로 바꿔주세요\n",
    "\n",
    "이외의 내용은 실습 1.02를 따릅니다\n",
    "\n",
    "Dropout과 optimizer를 바꿨을때 실습 1.02와 비교하여 본인의 의견을 작성해주세요\n",
    "\n",
    "**compile optimizer부분을 'Adam'으로 작성하면 Adam optimizer를 사용할 수 있습니다**"
   ]
  },
  {
   "cell_type": "code",
   "execution_count": null,
   "metadata": {
    "scrolled": true
   },
   "outputs": [],
   "source": []
  },
  {
   "cell_type": "markdown",
   "metadata": {},
   "source": [
    "#### 실습 1.04 Sigmoid & binary cross-entropy\n",
    "\n",
    "지금까지 multi classification 학습을 시도하였습니다\n",
    "\n",
    "이번에는 실습 영상에서 보여드렸던 binary cross entropy와 sigmoid objective function을 사용하여 multi labeling을 시도해보세요\n",
    "\n",
    "그리고 실습 1.03과 어떤 차이가 있는지 본인의 의견을 작성해주세요"
   ]
  },
  {
   "cell_type": "code",
   "execution_count": null,
   "metadata": {
    "scrolled": true
   },
   "outputs": [],
   "source": []
  },
  {
   "cell_type": "markdown",
   "metadata": {},
   "source": [
    "### 실습 02. Summary\n",
    "\n",
    "실습 1.01 ~ 1.04까지의 내용을 정리하여 각자의 의견을 pandas Table 또는 plot으로 표현해주세요\n",
    "\n",
    "그리고 제시한 그림 또는 표에 대해 설명을 작성해주세요\n",
    "\n",
    "실습 2번은 점수에 반영되지 않으며 별다른 의견이 없으신 경우 작성하지 않으셔도 괜찮습니다"
   ]
  },
  {
   "cell_type": "markdown",
   "metadata": {},
   "source": []
  }
 ],
 "metadata": {
  "kernelspec": {
   "display_name": "Python 3",
   "language": "python",
   "name": "python3"
  },
  "language_info": {
   "codemirror_mode": {
    "name": "ipython",
    "version": 3
   },
   "file_extension": ".py",
   "mimetype": "text/x-python",
   "name": "python",
   "nbconvert_exporter": "python",
   "pygments_lexer": "ipython3",
   "version": "3.6.9"
  }
 },
 "nbformat": 4,
 "nbformat_minor": 4
}
