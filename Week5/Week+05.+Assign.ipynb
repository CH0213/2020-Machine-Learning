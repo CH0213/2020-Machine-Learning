{
 "cells": [
  {
   "cell_type": "markdown",
   "metadata": {},
   "source": [
    "# Week 05. Decision Tree\n",
    "\n",
    "과제는 총 3개의 cell과 markdown 하나를 채워주셔야합니다\n",
    "\n",
    "1~3 문제는 영상과 실습자료에 나와있는 것들을 적절히 응용하시면 됩니다\n",
    "\n",
    "마지막 4번의 경우 본인의 생각을 마크다운으로 작성하는 부분입니다\n",
    "\n",
    "주석의 경우 이미지, 테이블 등의 표현이 어려운 관계로 받지 않겠습니다"
   ]
  },
  {
   "cell_type": "markdown",
   "metadata": {},
   "source": [
    "### 실습 00. Load dataset"
   ]
  },
  {
   "cell_type": "markdown",
   "metadata": {},
   "source": [
    "이번 과제에 사용할 dataset은 실습 설명에 사용한 wine dataset입니다\n",
    "\n",
    "ML dataset repository인 UCI에서 받을 수 있습니다\n",
    "\n",
    "이외에도 다양한 dataset이 있으니 ML에 관심이 있으신 분들은 아래 사이트를 참고해주세요\n",
    "\n",
    "UCI repository : https://archive.ics.uci.edu/ml/index.php\n",
    "\n",
    "모두가 같은 결과를 확인하기 위해 dataset을 train set과 validation set으로 분리해두었습니다\n",
    "\n",
    "자료실에서 x_train,x_test,y_train,y_test 파일을 받은 후 불러와주세요"
   ]
  },
  {
   "cell_type": "code",
   "execution_count": null,
   "metadata": {},
   "outputs": [],
   "source": [
    "import pandas as pd\n",
    "import numpy as np\n",
    "import os \n",
    "\n",
    "from sklearn.datasets import load_iris\n",
    "\n",
    "x_train=pd.read_csv('''경로를 입력해주세요''')\n",
    "x_test=pd.read_csv('''경로를 입력해주세요''')\n",
    "y_train=pd.read_csv('''경로를 입력해주세요''')\n",
    "y_test=pd.read_csv('''경로를 입력해주세요''')"
   ]
  },
  {
   "cell_type": "markdown",
   "metadata": {},
   "source": [
    "### 실습 01. Decision Tree - criterion"
   ]
  },
  {
   "cell_type": "markdown",
   "metadata": {},
   "source": [
    "불러온 data를 학습하기 위해 scikit-learn의 decision tree class를 불러옵니다\n",
    "\n",
    "서로 다른 criterion을 사용하여 full tree를 생성하고 graphviz로 시각화해주세요"
   ]
  },
  {
   "cell_type": "code",
   "execution_count": null,
   "metadata": {},
   "outputs": [],
   "source": [
    "from sklearn.tree import DecisionTreeClassifier\n",
    "import graphviz\n",
    "\n",
    "\n"
   ]
  },
  {
   "cell_type": "markdown",
   "metadata": {},
   "source": [
    "### 실습 02. Decision Tree - pre pruning"
   ]
  },
  {
   "cell_type": "markdown",
   "metadata": {},
   "source": [
    "pre pruning을 위한 hyperparameter를 사용해보겠습니다\n",
    "\n",
    "실습에서 설명드린 다양한 hyper parameter를 사용하여 pruning해보세요\n",
    "\n",
    "그리고 그 결과를 graphviz로 나타내고, full tree와 complexity, evaluation score를 비교해주세요"
   ]
  },
  {
   "cell_type": "code",
   "execution_count": null,
   "metadata": {},
   "outputs": [],
   "source": []
  },
  {
   "cell_type": "markdown",
   "metadata": {},
   "source": [
    "### 실습 03. Decision Tree - post pruning"
   ]
  },
  {
   "cell_type": "markdown",
   "metadata": {},
   "source": [
    "tree의 ccp path class를 사용하여 post pruning을 시도해보세요\n",
    "\n",
    "실습영상과 같이 시각화 해보고, 적절한 ccp alpha를 제시해주세요"
   ]
  },
  {
   "cell_type": "code",
   "execution_count": null,
   "metadata": {},
   "outputs": [],
   "source": []
  },
  {
   "cell_type": "markdown",
   "metadata": {},
   "source": [
    "### 실습 04. Scaling"
   ]
  },
  {
   "cell_type": "markdown",
   "metadata": {},
   "source": [
    "지난 시간 k-Nearest Neighbors classification을 실습하였습니다\n",
    "\n",
    "실습 과정을 통해, scaling 여부에 따라 kNN의 성능이 변화하는 것을 확인하였습니다\n",
    "\n",
    "Decision tree에서는 scaling 여부에 따라 모델의 성능 차이가 존재하는지 학생분들의 의견을 자유롭게 작성해주세요"
   ]
  },
  {
   "cell_type": "code",
   "execution_count": null,
   "metadata": {},
   "outputs": [],
   "source": [
    "'''필요하다면 코드로 시각화해주세요'''"
   ]
  },
  {
   "cell_type": "markdown",
   "metadata": {},
   "source": [
    "의견은 글로써 반드시 남겨주셔야합니다 \n",
    "\n",
    "그림만으로 설명할 경우 배점이 없습니다"
   ]
  }
 ],
 "metadata": {
  "kernelspec": {
   "display_name": "Python 3",
   "language": "python",
   "name": "python3"
  },
  "language_info": {
   "codemirror_mode": {
    "name": "ipython",
    "version": 3
   },
   "file_extension": ".py",
   "mimetype": "text/x-python",
   "name": "python",
   "nbconvert_exporter": "python",
   "pygments_lexer": "ipython3",
   "version": "3.6.9"
  }
 },
 "nbformat": 4,
 "nbformat_minor": 4
}
